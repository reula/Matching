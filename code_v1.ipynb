{
 "cells": [
  {
   "cell_type": "markdown",
   "metadata": {},
   "source": []
  },
  {
   "cell_type": "markdown",
   "metadata": {},
   "source": [
    "## Code for solving the matching problem.\n",
    "\n",
    "We need to define four fields which will evolve with the RK scheme.\n",
    "\n",
    "For the left region we have 3 fields, $\\phi_L$, $vp$ and $vm$\n",
    "For the right region also solve for 3 fields, $S$, $W$, and $\\phi_R$.\n",
    "\n",
    "\n",
    "\n"
   ]
  },
  {
   "cell_type": "code",
   "execution_count": 24,
   "metadata": {},
   "outputs": [
    {
     "name": "stdout",
     "output_type": "stream",
     "text": [
      "nthreads = 2\n"
     ]
    }
   ],
   "source": [
    "using Plots\n",
    "using FileIO\n",
    "using JLD2\n",
    "using Base.Threads\n",
    "#Pkg; Pkg.add(\"DistributedArrays\")\n",
    "println(\"nthreads = $(nthreads())\")\n",
    "using Printf\n",
    "using LaTeXStrings"
   ]
  },
  {
   "cell_type": "code",
   "execution_count": 43,
   "metadata": {},
   "outputs": [
    {
     "name": "stderr",
     "output_type": "stream",
     "text": [
      "WARNING: redefinition of constant Qd. This may fail, cause incorrect answers, or produce other errors.\n"
     ]
    },
    {
     "data": {
      "text/plain": [
       "F! (generic function with 2 methods)"
      ]
     },
     "metadata": {},
     "output_type": "display_data"
    }
   ],
   "source": [
    "include(\"aux_functions.jl\")"
   ]
  },
  {
   "cell_type": "code",
   "execution_count": 26,
   "metadata": {},
   "outputs": [
    {
     "data": {
      "text/plain": [
       "(100, 1.0, 0.010101010101010102, 100, 1.0, 0.010101010101010102)"
      ]
     },
     "metadata": {},
     "output_type": "display_data"
    }
   ],
   "source": [
    "run_name = \"try_\"\n",
    "\n",
    "Nl = 100; Nr = 100 #points to the left and rigth regions\n",
    "L = 1.0 #size of left side \n",
    "R = 1.0 #size of right side\n",
    "dl = L/(Nl-1)\n",
    "dr = R/(Nr-1)\n",
    "u = zeros(3*Nl+3*Nr);\n",
    "ρ_L = zeros(Nl)\n",
    "ρ_R = zeros(Nr) \n",
    "\n",
    "par_grid = (Nl, L, dl, Nr, R, dr)"
   ]
  },
  {
   "cell_type": "markdown",
   "metadata": {},
   "source": [
    "### The initial data. \n",
    "\n",
    "We shall use first a simple initial data consisting of a bump to the left in the right side. The rest is zero."
   ]
  },
  {
   "cell_type": "code",
   "execution_count": 27,
   "metadata": {},
   "outputs": [
    {
     "data": {
      "text/plain": [
       "bump (generic function with 1 method)"
      ]
     },
     "metadata": {},
     "output_type": "display_data"
    }
   ],
   "source": [
    "function bump(x,x0,x1,p,A)\n",
    "    if x > x0 && x < x1\n",
    "    return A*(x-x0)^p*(x-x1)^p*((x1-x0)/2)^(-2p)\n",
    "    else\n",
    "        return 0\n",
    "    end\n",
    "end\n",
    "#plot(x->bump(x,1,2,4,1)) #checked ok"
   ]
  },
  {
   "cell_type": "code",
   "execution_count": 28,
   "metadata": {},
   "outputs": [
    {
     "data": {
      "text/plain": [
       "(0.2, 0.3, 4, 1)"
      ]
     },
     "metadata": {},
     "output_type": "display_data"
    }
   ],
   "source": [
    "x0 = 0.2\n",
    "x1 = 0.3\n",
    "p_bump = 4\n",
    "A = 1\n",
    "\n",
    "for i in 1:Nr \n",
    "    r = L + dr*(i-1) \n",
    "    u[3*Nl+i] = bump(r,x0,x1,p_bump,A)\n",
    "end\n",
    "par_init = (x0,x1,p_bump,A)"
   ]
  },
  {
   "cell_type": "code",
   "execution_count": 38,
   "metadata": {},
   "outputs": [
    {
     "data": {
      "text/plain": [
       "(100, 0.010101010101010102, 100, 0.010101010101010102, [0.0, 0.0, 0.0, 0.0, 0.0, 0.0, 0.0, 0.0, 0.0, 0.0  …  0.0, 0.0, 0.0, 0.0, 0.0, 0.0, 0.0, 0.0, 0.0, 0.0], [0.0, 0.0, 0.0, 0.0, 0.0, 0.0, 0.0, 0.0, 0.0, 0.0  …  0.0, 0.0, 0.0, 0.0, 0.0, 0.0, 0.0, 0.0, 0.0, 0.0], [0.0, 0.0, 0.0, 0.0, 0.0, 0.0, 0.0, 0.0, 0.0, 0.0  …  0.0, 0.0, 0.0, 0.0, 0.0, 0.0, 0.0, 0.0, 0.0, 0.0])"
      ]
     },
     "metadata": {},
     "output_type": "display_data"
    }
   ],
   "source": [
    "ρ_L = zeros(Nl)\n",
    "ρ_R = zeros(Nr)\n",
    "du = zeros(3Nl+3Nr)\n",
    "\n",
    "p_F = Nl, dl, Nr, dr, ρ_L, ρ_R"
   ]
  },
  {
   "cell_type": "code",
   "execution_count": 39,
   "metadata": {},
   "outputs": [
    {
     "data": {
      "text/plain": [
       "F! (generic function with 1 method)"
      ]
     },
     "metadata": {},
     "output_type": "display_data"
    }
   ],
   "source": [
    "\n",
    "    \n",
    "\n"
   ]
  },
  {
   "cell_type": "code",
   "execution_count": 40,
   "metadata": {},
   "outputs": [
    {
     "data": {
      "text/plain": [
       "0.2"
      ]
     },
     "metadata": {},
     "output_type": "display_data"
    }
   ],
   "source": [
    "t_i = 0\n",
    "t_f = 2\n",
    "M = 101\n",
    "dt = (t_f - t_i)/(M-1)\n",
    "M_d = 11\n",
    "t = t_i\n",
    "dt_d = (t_f - t_i)/(M_d-1)"
   ]
  },
  {
   "cell_type": "code",
   "execution_count": 41,
   "metadata": {},
   "outputs": [
    {
     "data": {
      "text/plain": [
       "600-element Vector{Float64}:\n",
       " 0.0\n",
       " 0.0\n",
       " 0.0\n",
       " 0.0\n",
       " 0.0\n",
       " 0.0\n",
       " 0.0\n",
       " 0.0\n",
       " 0.0\n",
       " 0.0\n",
       " ⋮\n",
       " 0.0\n",
       " 0.0\n",
       " 0.0\n",
       " 0.0\n",
       " 0.0\n",
       " 0.0\n",
       " 0.0\n",
       " 0.0\n",
       " 0.0"
      ]
     },
     "metadata": {},
     "output_type": "display_data"
    }
   ],
   "source": [
    "k1 = zeros(3Nl+3Nr)\n",
    "k2 = zeros(3Nl+3Nr)\n",
    "k3 = zeros(3Nl+3Nr)\n",
    "k4 = zeros(3Nl+3Nr)\n",
    "par_RK = (k1, k2, k3, k4)\n",
    "par_evolv = (t_i, t_f, M, dt, M_d, dt_d)\n",
    "\n",
    "run_pars = Dict(\"run_name\" => run_name, \"par_grid\" => par_grid, \"par_evolv\" => par_evolv, \"p_init\" => par_init)\n",
    "file_name = \"Results/\"* run_name * \".jld2\"\n",
    "#rm(file_name)\n",
    "j = 1\n",
    "tiempo = @sprintf(\"%05d\", j)\n",
    "field_name = \"u\"\n",
    "\n",
    "save(file_name, run_pars)\n",
    "\n",
    "if false # solo para testear\n",
    "file = jldopen(file_name, \"r+\")\n",
    "close(file)\n",
    "end\n",
    "\n",
    "jldopen(file_name, \"a+\") do file\n",
    "    file[field_name * \"/u_$(tiempo)\"] = u;\n",
    "end"
   ]
  },
  {
   "cell_type": "code",
   "execution_count": 44,
   "metadata": {},
   "outputs": [
    {
     "ename": "BoundsError",
     "evalue": "BoundsError: attempt to access 600-element Vector{Float64} at index [301, 400]",
     "output_type": "error",
     "traceback": [
      "BoundsError: attempt to access 600-element Vector{Float64} at index [301, 400]\n",
      "\n",
      "Stacktrace:\n",
      "  [1] throw_boundserror(A::Vector{Float64}, I::Tuple{Int64, Int64})\n",
      "    @ Base ./abstractarray.jl:691\n",
      "  [2] checkbounds\n",
      "    @ ./abstractarray.jl:656 [inlined]\n",
      "  [3] view\n",
      "    @ ./subarray.jl:177 [inlined]\n",
      "  [4] F!(du::Vector{Float64}, u::Vector{Float64}, t::Int64, p_F::Tuple{Int64, Float64, Int64, Float64, Vector{Float64}, Vector{Float64}, Vector{Float64}})\n",
      "    @ Main ~/Julia/Matching/aux_functions.jl:90\n",
      "  [5] RK4_Step!(f::typeof(F!), y0::Vector{Float64}, t0::Int64, h::Float64, p_f::Tuple{Int64, Float64, Int64, Float64, Vector{Float64}, Vector{Float64}, Vector{Float64}}, par_RK::NTuple{4, Vector{Float64}})\n",
      "    @ Main ~/Julia/Matching/aux_functions.jl:50\n",
      "  [6] top-level scope\n",
      "    @ ~/Julia/Matching/code_v1.ipynb:4\n",
      "  [7] eval\n",
      "    @ ./boot.jl:373 [inlined]\n",
      "  [8] include_string(mapexpr::typeof(REPL.softscope), mod::Module, code::String, filename::String)\n",
      "    @ Base ./loading.jl:1196\n",
      "  [9] #invokelatest#2\n",
      "    @ ./essentials.jl:716 [inlined]\n",
      " [10] invokelatest\n",
      "    @ ./essentials.jl:714 [inlined]\n",
      " [11] (::VSCodeServer.var\"#164#165\"{VSCodeServer.NotebookRunCellArguments, String})()\n",
      "    @ VSCodeServer ~/.vscode/extensions/julialang.language-julia-1.6.17/scripts/packages/VSCodeServer/src/serve_notebook.jl:19\n",
      " [12] withpath(f::VSCodeServer.var\"#164#165\"{VSCodeServer.NotebookRunCellArguments, String}, path::String)\n",
      "    @ VSCodeServer ~/.vscode/extensions/julialang.language-julia-1.6.17/scripts/packages/VSCodeServer/src/repl.jl:184\n",
      " [13] notebook_runcell_request(conn::VSCodeServer.JSONRPC.JSONRPCEndpoint{Base.PipeEndpoint, Base.PipeEndpoint}, params::VSCodeServer.NotebookRunCellArguments)\n",
      "    @ VSCodeServer ~/.vscode/extensions/julialang.language-julia-1.6.17/scripts/packages/VSCodeServer/src/serve_notebook.jl:13\n",
      " [14] dispatch_msg(x::VSCodeServer.JSONRPC.JSONRPCEndpoint{Base.PipeEndpoint, Base.PipeEndpoint}, dispatcher::VSCodeServer.JSONRPC.MsgDispatcher, msg::Dict{String, Any})\n",
      "    @ VSCodeServer.JSONRPC ~/.vscode/extensions/julialang.language-julia-1.6.17/scripts/packages/JSONRPC/src/typed.jl:67\n",
      " [15] serve_notebook(pipename::String, outputchannel_logger::Base.CoreLogging.SimpleLogger; crashreporting_pipename::String)\n",
      "    @ VSCodeServer ~/.vscode/extensions/julialang.language-julia-1.6.17/scripts/packages/VSCodeServer/src/serve_notebook.jl:136\n",
      " [16] top-level scope\n",
      "    @ ~/.vscode/extensions/julialang.language-julia-1.6.17/scripts/notebook/notebook.jl:32\n",
      " [17] include(mod::Module, _path::String)\n",
      "    @ Base ./Base.jl:418\n",
      " [18] exec_options(opts::Base.JLOptions)\n",
      "    @ Base ./client.jl:292\n",
      " [19] _start()\n",
      "    @ Base ./client.jl:495"
     ]
    }
   ],
   "source": [
    "\n",
    "\n",
    "for k in 2:M\n",
    "    RK4_Step!(F!,u,t,dt,p_F,par_RK)\n",
    "    global t = t + dt\n",
    "    if (k-1) % (M÷(M_g-1)) == 0\n",
    "        local j = (k-1)÷(M÷(M_g-1))+1\n",
    "        local tiempo = @sprintf(\"%05d\", j)\n",
    "        jldopen(file_name, \"a+\") do file\n",
    "            file[field_name * \"/u_$(tiempo)\"] = u\n",
    "        end\n",
    "        end\n",
    "    end\n"
   ]
  },
  {
   "cell_type": "code",
   "execution_count": null,
   "metadata": {},
   "outputs": [],
   "source": []
  }
 ],
 "metadata": {
  "kernelspec": {
   "display_name": "Julia 1.7.2",
   "language": "julia",
   "name": "julia-1.7"
  },
  "language_info": {
   "file_extension": ".jl",
   "mimetype": "application/julia",
   "name": "julia",
   "version": "1.7.2"
  },
  "orig_nbformat": 4
 },
 "nbformat": 4,
 "nbformat_minor": 2
}
