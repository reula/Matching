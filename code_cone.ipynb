{
 "cells": [
  {
   "cell_type": "code",
   "execution_count": 26,
   "metadata": {},
   "outputs": [
    {
     "name": "stdout",
     "output_type": "stream",
     "text": [
      "nthreads = 2\n"
     ]
    }
   ],
   "source": [
    "using Plots\n",
    "using FileIO\n",
    "using JLD2\n",
    "using Base.Threads\n",
    "#Pkg; Pkg.add(\"DistributedArrays\")\n",
    "println(\"nthreads = $(nthreads())\")\n",
    "using Printf\n",
    "using LaTeXStrings"
   ]
  },
  {
   "cell_type": "code",
   "execution_count": 27,
   "metadata": {},
   "outputs": [
    {
     "name": "stderr",
     "output_type": "stream",
     "text": [
      "WARNING: redefinition of constant Qd. This may fail, cause incorrect answers, or produce other errors.\n"
     ]
    },
    {
     "data": {
      "text/plain": [
       "get_data (generic function with 2 methods)"
      ]
     },
     "metadata": {},
     "output_type": "display_data"
    }
   ],
   "source": [
    "include(\"aux_functions.jl\")"
   ]
  },
  {
   "cell_type": "code",
   "execution_count": 28,
   "metadata": {},
   "outputs": [
    {
     "data": {
      "text/plain": [
       "(401, 1.0, 0.0025)"
      ]
     },
     "metadata": {},
     "output_type": "display_data"
    }
   ],
   "source": [
    "conv_factor = 1 \n",
    "#conv_factor = 2\n",
    "#conv_factor = 3\n",
    "#conv_factor = 4\n",
    "\n",
    "r_pulse = true\n",
    "#c_pulse = true\n",
    "\n",
    "if r_pulse\n",
    "    run_name = \"r_pulse_cone_\"\n",
    "end\n",
    "\n",
    "if r_pulse\n",
    "    Nr = 400*2^(conv_factor-1) + 1 #points to the left and rigth regions\n",
    "    R = 1.0 #size of right side\n",
    "    dr = R/(Nr-1)\n",
    "end\n",
    "\n",
    "u = zeros(3Nr);\n",
    "ρ_R = zeros(Nr) \n",
    "\n",
    "run_name = run_name * \"$(Nr)\"\n",
    "par_grid = (Nr, R, dr)"
   ]
  },
  {
   "cell_type": "code",
   "execution_count": 29,
   "metadata": {},
   "outputs": [
    {
     "data": {
      "text/plain": [
       "(0.2, 0.4, 6, 1.0)"
      ]
     },
     "metadata": {},
     "output_type": "display_data"
    }
   ],
   "source": [
    "if r_pulse\n",
    "    S = view(u,Nr+1:2Nr)\n",
    "    ϕ_R = view(u,1:Nr)\n",
    "    x0 = 0.2\n",
    "    x1 = 0.4\n",
    "    p_bump = 6\n",
    "    A = 1.0\n",
    "    for i in 1:Nr \n",
    "        r = dr*(i-1) \n",
    "        S[i] = bump_x(r,x0,x1,p_bump,A)\n",
    "        ϕ_R[i] = bump(r,x0,x1,p_bump,A)\n",
    "        plot(S)\n",
    "    end\n",
    "end\n",
    "\n",
    "par_init = (x0,x1,p_bump,A)"
   ]
  },
  {
   "cell_type": "code",
   "execution_count": 30,
   "metadata": {},
   "outputs": [
    {
     "data": {
      "text/plain": [
       "(401, 0.0025, [0.0, 0.0, 0.0, 0.0, 0.0, 0.0, 0.0, 0.0, 0.0, 0.0  …  0.0, 0.0, 0.0, 0.0, 0.0, 0.0, 0.0, 0.0, 0.0, 0.0])"
      ]
     },
     "metadata": {},
     "output_type": "display_data"
    }
   ],
   "source": [
    "ρ_R = zeros(Nr)\n",
    "du = zeros(3Nr)\n",
    "\n",
    "p_F = Nr, dr, ρ_R"
   ]
  },
  {
   "cell_type": "code",
   "execution_count": 31,
   "metadata": {},
   "outputs": [
    {
     "data": {
      "text/plain": [
       "0.01875"
      ]
     },
     "metadata": {},
     "output_type": "display_data"
    }
   ],
   "source": [
    "t_i = 0.0\n",
    "if r_pulse\n",
    "    t_f = 3.0\n",
    "    M = (1601-1)*2^(conv_factor-1)+1\n",
    "    dt = (t_f - t_i)/(M-1)\n",
    "    M_d = 161\n",
    "end\n",
    "t = t_i\n",
    "dt_d = (t_f - t_i)/(M_d-1)"
   ]
  },
  {
   "cell_type": "code",
   "execution_count": 32,
   "metadata": {},
   "outputs": [
    {
     "data": {
      "text/plain": [
       "1203-element Vector{Float64}:\n",
       " 0.0\n",
       " 0.0\n",
       " 0.0\n",
       " 0.0\n",
       " 0.0\n",
       " 0.0\n",
       " 0.0\n",
       " 0.0\n",
       " 0.0\n",
       " 0.0\n",
       " ⋮\n",
       " 0.0\n",
       " 0.0\n",
       " 0.0\n",
       " 0.0\n",
       " 0.0\n",
       " 0.0\n",
       " 0.0\n",
       " 0.0\n",
       " 0.0"
      ]
     },
     "metadata": {},
     "output_type": "display_data"
    }
   ],
   "source": [
    "k1 = zeros(3Nr)\n",
    "k2 = zeros(3Nr)\n",
    "k3 = zeros(3Nr)\n",
    "k4 = zeros(3Nr)\n",
    "par_RK = (k1, k2, k3, k4)\n",
    "par_evolv = (t_i, t_f, M, dt, M_d, dt_d)\n",
    "\n",
    "run_pars = Dict(\"run_name\" => run_name, \"par_grid\" => par_grid, \"par_evolv\" => par_evolv, \"par_init\" => par_init)\n",
    "file_name = \"Results/\"* run_name * \".jld2\"\n",
    "#rm(file_name)\n",
    "j = 1\n",
    "tiempo = @sprintf(\"%05d\", j)\n",
    "field_name = \"u\"\n",
    "\n",
    "save(file_name, run_pars)\n",
    "\n",
    "if false # solo para testear\n",
    "file = jldopen(file_name, \"r+\")\n",
    "close(file)\n",
    "end\n",
    "\n",
    "jldopen(file_name, \"a+\") do file\n",
    "    file[field_name * \"/u_$(tiempo)\"] = u;\n",
    "end"
   ]
  },
  {
   "cell_type": "code",
   "execution_count": 33,
   "metadata": {},
   "outputs": [
    {
     "name": "stdout",
     "output_type": "stream",
     "text": [
      "t=0.018750000000000003\n",
      "t=0.03750000000000002\n",
      "t=0.056250000000000036\n",
      "t=0.07500000000000005\n",
      "t=0.09375000000000007\n",
      "t=0.11250000000000009\n",
      "t=0.13125000000000006\n",
      "t=0.14999999999999994\n",
      "t=0.16874999999999982\n",
      "t=0.1874999999999997\n",
      "t=0.20624999999999957\n",
      "t=0.22499999999999945\n",
      "t=0.24374999999999933\n",
      "t=0.2624999999999994\n",
      "t=0.28124999999999956\n",
      "t=0.2999999999999997\n",
      "t=0.31874999999999987\n",
      "t=0.3375\n",
      "t=0.3562500000000002\n",
      "t=0.37500000000000033\n",
      "t=0.3937500000000005\n",
      "t=0.41250000000000064\n",
      "t=0.4312500000000008\n",
      "t=0.45000000000000095\n",
      "t=0.4687500000000011\n",
      "t=0.48750000000000127\n",
      "t=0.5062500000000012\n",
      "t=0.5250000000000008\n",
      "t=0.5437500000000004\n",
      "t=0.5625\n",
      "t=0.5812499999999996\n",
      "t=0.5999999999999992\n",
      "t=0.6187499999999988\n",
      "t=0.6374999999999984\n",
      "t=0.656249999999998\n",
      "t=0.6749999999999976\n",
      "t=0.6937499999999972\n",
      "t=0.7124999999999968\n",
      "t=0.7312499999999964\n",
      "t=0.749999999999996\n",
      "t=0.7687499999999956\n",
      "t=0.7874999999999952\n",
      "t=0.8062499999999948\n",
      "t=0.8249999999999944\n",
      "t=0.843749999999994\n",
      "t=0.8624999999999936\n",
      "t=0.8812499999999932\n",
      "t=0.8999999999999928\n",
      "t=0.9187499999999924\n",
      "t=0.937499999999992\n",
      "t=0.9562499999999916\n",
      "t=0.9749999999999912\n",
      "t=0.9937499999999908\n",
      "t=1.012499999999991\n",
      "t=1.0312499999999918\n",
      "t=1.0499999999999925\n",
      "t=1.0687499999999932\n",
      "t=1.087499999999994\n",
      "t=1.1062499999999946\n",
      "t=1.1249999999999953\n",
      "t=1.143749999999996\n",
      "t=1.1624999999999968\n",
      "t=1.1812499999999975\n",
      "t=1.1999999999999982\n",
      "t=1.218749999999999\n",
      "t=1.2374999999999996\n",
      "t=1.2562500000000003\n",
      "t=1.275000000000001\n",
      "t=1.2937500000000017\n",
      "t=1.3125000000000024\n",
      "t=1.3312500000000032\n",
      "t=1.3500000000000039\n",
      "t=1.3687500000000046\n",
      "t=1.3875000000000053\n",
      "t=1.406250000000006\n",
      "t=1.4250000000000067\n",
      "t=1.4437500000000074\n",
      "t=1.4625000000000081\n",
      "t=1.4812500000000088\n",
      "t=1.5000000000000095\n",
      "t=1.5187500000000103\n",
      "t=1.537500000000011\n",
      "t=1.5562500000000117\n",
      "t=1.5750000000000124\n",
      "t=1.593750000000013\n",
      "t=1.6125000000000138\n",
      "t=1.6312500000000145\n",
      "t=1.6500000000000152\n",
      "t=1.668750000000016\n",
      "t=1.6875000000000167\n",
      "t=1.7062500000000174\n",
      "t=1.725000000000018\n",
      "t=1.7437500000000188\n",
      "t=1.7625000000000195\n",
      "t=1.7812500000000202\n",
      "t=1.800000000000021\n",
      "t=1.8187500000000216\n",
      "t=1.8375000000000223\n",
      "t=1.856250000000023\n",
      "t=1.8750000000000238\n",
      "t=1.8937500000000245\n",
      "t=1.9125000000000252\n",
      "t=1.931250000000026\n",
      "t=1.9500000000000266\n",
      "t=1.9687500000000273\n",
      "t=1.987500000000028\n",
      "t=2.0062500000000285\n",
      "t=2.025000000000029\n",
      "t=2.04375000000003\n",
      "t=2.0625000000000306\n",
      "t=2.0812500000000314\n",
      "t=2.100000000000032\n",
      "t=2.1187500000000328\n",
      "t=2.1375000000000335\n",
      "t=2.156250000000034\n",
      "t=2.175000000000035\n",
      "t=2.1937500000000356\n",
      "t=2.2125000000000363\n",
      "t=2.231250000000037\n",
      "t=2.2500000000000377\n",
      "t=2.2687500000000385\n",
      "t=2.287500000000039\n",
      "t=2.30625000000004\n",
      "t=2.3250000000000406\n",
      "t=2.3437500000000413\n",
      "t=2.362500000000042\n",
      "t=2.3812500000000427\n",
      "t=2.4000000000000434\n",
      "t=2.418750000000044\n",
      "t=2.437500000000045\n",
      "t=2.4562500000000456\n",
      "t=2.4750000000000463\n",
      "t=2.493750000000047\n",
      "t=2.5125000000000477\n",
      "t=2.5312500000000484\n",
      "t=2.550000000000049\n",
      "t=2.56875000000005\n",
      "t=2.5875000000000505\n",
      "t=2.6062500000000512\n",
      "t=2.625000000000052\n",
      "t=2.6437500000000527\n",
      "t=2.6625000000000534\n",
      "t=2.681250000000054\n",
      "t=2.700000000000055\n",
      "t=2.7187500000000555\n",
      "t=2.737500000000056\n",
      "t=2.756250000000057\n",
      "t=2.7750000000000576\n",
      "t=2.7937500000000584\n",
      "t=2.812500000000059\n",
      "t=2.8312500000000598\n",
      "t=2.8500000000000605\n",
      "t=2.868750000000061\n",
      "t=2.887500000000062\n",
      "t=2.9062500000000626\n",
      "t=2.9250000000000633\n",
      "t=2.943750000000064\n",
      "t=2.9625000000000647\n",
      "t=2.9812500000000655\n",
      "t=3.000000000000066\n"
     ]
    }
   ],
   "source": [
    "\n",
    "\n",
    "for k in 2:M\n",
    "    RK4_Step!(Fcone!,u,t,dt,p_F,par_RK)\n",
    "    global t = t + dt\n",
    "    if (k-1) % (M÷(M_d-1)) == 0\n",
    "        local j = (k-1)÷(M÷(M_d-1))+1\n",
    "        local tiempo = @sprintf(\"%05d\", j)\n",
    "        jldopen(file_name, \"a+\") do file\n",
    "            file[field_name * \"/u_$(tiempo)\"] = u\n",
    "        end\n",
    "        println(\"t=$t\")\n",
    "    end\n",
    "end"
   ]
  }
 ],
 "metadata": {
  "kernelspec": {
   "display_name": "Julia 1.7.2",
   "language": "julia",
   "name": "julia-1.7"
  },
  "language_info": {
   "file_extension": ".jl",
   "mimetype": "application/julia",
   "name": "julia",
   "version": "1.7.2"
  },
  "orig_nbformat": 4
 },
 "nbformat": 4,
 "nbformat_minor": 2
}
